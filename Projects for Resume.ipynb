{
 "cells": [
  {
   "cell_type": "code",
   "execution_count": 7,
   "id": "84d592ae",
   "metadata": {},
   "outputs": [],
   "source": [
    "#Project 1: COVID diagnostic\n",
    "#Write a function that makes a tentative diagnosis of COVID (probablyNo, possiblyYes, probablyYes), based on a presenting set of symptoms.\n",
    "\n",
    "#The symptoms (parameters) are: \n",
    "#temperature (int) - what is your temperature?\n",
    "#cough (Boolean) - do you have a cough?\n",
    "#runnyNose (Boolean) - do you have a runny nose?\n",
    "#The conditions and outcomes are:\n",
    "\n",
    "#runny nose is an antipattern, so any time runnyNose is true, the function should diagnose as probablyNo (i.e., not COVID)\n",
    "#if temperature is above 100 (fever) or there is a cough (but not both), then there's a small chance it's COVID, but we can't be super sure, so the function should diagnose as possiblyYes\n",
    "#if temperature is above 100 (fever) and there is a cough, then we're a little more worried that it might be COVID, so the function should diagnose as probablyYes"
   ]
  },
  {
   "cell_type": "code",
   "execution_count": 5,
   "id": "166930dc",
   "metadata": {},
   "outputs": [],
   "source": [
    "def diagnose(temperature, hasCough, hasRunnyNose):\n",
    "    if hasRunnyNose:\n",
    "        return (\"probablyNo\")\n",
    "    elif temperature > 100 or hasCough:\n",
    "        if temperature > 100 and hasCough:\n",
    "            return (\"probablyYes\")\n",
    "        else:\n",
    "            return (\"possiblyYes\")\n",
    "    else:\n",
    "        return (\"probablyNo\")\n",
    "        return diagnosis"
   ]
  },
  {
   "cell_type": "code",
   "execution_count": 15,
   "id": "1aa8878d",
   "metadata": {},
   "outputs": [
    {
     "name": "stdout",
     "output_type": "stream",
     "text": [
      "possiblyYes\n"
     ]
    }
   ],
   "source": [
    "#Feel free to change any of the values below:\n",
    "temperature = 99\n",
    "hasCough = True\n",
    "hasRunnyNose = False\n",
    "diagnosis = diagnose(temperature, hasCough, hasRunnyNose) \n",
    "print(diagnosis)"
   ]
  },
  {
   "cell_type": "code",
   "execution_count": null,
   "id": "bca8d0b6",
   "metadata": {},
   "outputs": [],
   "source": []
  },
  {
   "cell_type": "code",
   "execution_count": 8,
   "id": "6a5bebcd",
   "metadata": {},
   "outputs": [],
   "source": [
    "#Project 2: Sensitive word redacter\n",
    "#Write a program that takes a list of words and a list of sensitive words, and prints out a new list of words that replaces each sensitive word with the word \"REDACTED\", as well as the number of times the sensitive words showed up, in the following template: \"Redacted N instances of sensitive words\" (where N will be replaced by the number of words that were redacted).\n",
    "\n",
    "#You do not need to put the entire program into a function. If you want to use a function, you can put both the output list and the output message in the return statement, like this: return outputList, outputMsg."
   ]
  },
  {
   "cell_type": "code",
   "execution_count": 9,
   "id": "6b0c27bb",
   "metadata": {},
   "outputs": [],
   "source": [
    "words = ['she', 'sells', 'sea-shells', 'on', 'the', 'sea-shore', 'the', 'shells', 'she', 'sells', 'are', 'sea-shells', \"i'm\", 'sure', 'for', 'if', 'she', 'sells', 'sea-shells', 'on', 'the', 'sea-shore', 'then', \"i'm\", 'sure', 'she', 'sells', 'sea-shore', 'shells']\n",
    "sensitive_words = [\"she\", \"sea-shells\"]"
   ]
  },
  {
   "cell_type": "code",
   "execution_count": 10,
   "id": "ec258fdc",
   "metadata": {},
   "outputs": [
    {
     "name": "stdout",
     "output_type": "stream",
     "text": [
      "['REDACTED', 'sells', 'REDACTED', 'on', 'the', 'sea-shore', 'the', 'shells', 'REDACTED', 'sells', 'are', 'REDACTED', \"i'm\", 'sure', 'for', 'if', 'REDACTED', 'sells', 'REDACTED', 'on', 'the', 'sea-shore', 'then', \"i'm\", 'sure', 'REDACTED', 'sells', 'sea-shore', 'shells']\n",
      "Redacted 7 instances of sensitive words\n"
     ]
    }
   ],
   "source": [
    "words = ['she', 'sells', 'sea-shells', 'on', 'the', 'sea-shore', 'the', 'shells', 'she', 'sells', 'are', 'sea-shells', \"i'm\", 'sure', 'for', 'if', 'she', 'sells', 'sea-shells', 'on', 'the', 'sea-shore', 'then', \"i'm\", 'sure', 'she', 'sells', 'sea-shore', 'shells']\n",
    "sensitive_words = [\"she\", \"sea-shells\"]\n",
    "\n",
    "output_list = []\n",
    "redacted_count = 0\n",
    "\n",
    "for word in words:\n",
    "    if word in sensitive_words:\n",
    "        output_list.append(\"REDACTED\")\n",
    "        redacted_count += 1\n",
    "    else:\n",
    "        output_list.append(word)\n",
    "\n",
    "output_message = f\"Redacted {redacted_count} instances of sensitive words\"\n",
    "\n",
    "print(output_list)\n",
    "print(output_message)"
   ]
  },
  {
   "cell_type": "code",
   "execution_count": null,
   "id": "d7ffc9aa",
   "metadata": {},
   "outputs": [],
   "source": []
  }
 ],
 "metadata": {
  "kernelspec": {
   "display_name": "Python 3 (ipykernel)",
   "language": "python",
   "name": "python3"
  },
  "language_info": {
   "codemirror_mode": {
    "name": "ipython",
    "version": 3
   },
   "file_extension": ".py",
   "mimetype": "text/x-python",
   "name": "python",
   "nbconvert_exporter": "python",
   "pygments_lexer": "ipython3",
   "version": "3.9.13"
  }
 },
 "nbformat": 4,
 "nbformat_minor": 5
}
